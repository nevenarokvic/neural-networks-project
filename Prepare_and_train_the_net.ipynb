{
  "nbformat": 4,
  "nbformat_minor": 0,
  "metadata": {
    "colab": {
      "name": "Prepare and train the net.ipynb",
      "provenance": [],
      "collapsed_sections": [],
      "authorship_tag": "ABX9TyMTU2EOjBCRKd42TnLGjKnG"
    },
    "kernelspec": {
      "name": "python3",
      "display_name": "Python 3"
    },
    "language_info": {
      "name": "python"
    }
  },
  "cells": [
    {
      "cell_type": "code",
      "metadata": {
        "id": "nwh7qK1FAgMT"
      },
      "source": [
        "def prepare_sequences(notes, n_vocab):\n",
        "    sequence_length = 100\n",
        "\n",
        "    # get all pitch names\n",
        "    pitchnames = sorted(set(item for item in notes))\n",
        "    print(len(pitchnames))\n",
        "     # create a dictionary to map pitches to integers\n",
        "    note_to_int = dict((note, number) for number, note in enumerate(pitchnames))\n",
        "\n",
        "    network_input = []\n",
        "    network_output = []\n",
        "\n",
        "    # create input sequences and the outputs\n",
        "    for i in range(0, len(notes) - sequence_length, 1):\n",
        "        sequence_in = notes[i:i + sequence_length]\n",
        "        sequence_out = notes[i + sequence_length]\n",
        "        network_input.append([note_to_int[char] for char in sequence_in])\n",
        "        network_output.append(note_to_int[sequence_out])\n",
        "\n",
        "    n_patterns = len(network_input)\n",
        "\n",
        "    # make compatible input for LSTM layers\n",
        "    network_input = np.reshape(network_input, (n_patterns, sequence_length, 1))\n",
        "    # normalize input\n",
        "    network_input = network_input / float(n_vocab)\n",
        "\n",
        "    network_output = np_utils.to_categorical(network_output)\n",
        "\n",
        "    return (network_input, network_output)"
      ],
      "execution_count": null,
      "outputs": []
    },
    {
      "cell_type": "code",
      "metadata": {
        "id": "STcf3r7SAjIV"
      },
      "source": [
        "#build the network\n",
        "\n",
        "def build_lstm(network_input, n_vocab):\n",
        "    model = Sequential()\n",
        "    model.add(LSTM(256,return_sequences=True,input_shape=(network_input.shape[1], network_input.shape[2])\n",
        "    ))      \n",
        "    model.add(LSTM(256,return_sequences=True))\n",
        "    model.add(LSTM(256))\n",
        "    model.add(BatchNorm())\n",
        "    model.add(Dense(256))\n",
        "    model.add(Activation('relu'))\n",
        "    model.add(BatchNorm())\n",
        "    model.add(Dense(n_vocab))\n",
        "    model.add(Activation('softmax'))\n",
        "    model.compile(loss='categorical_crossentropy', optimizer='rmsprop', metrics = 'accuracy')\n",
        "\n",
        "    return model"
      ],
      "execution_count": null,
      "outputs": []
    },
    {
      "cell_type": "code",
      "metadata": {
        "id": "BlCmNWcpOKoy"
      },
      "source": [
        "def train_network():\n",
        "    # get the number of different pitch names\n",
        "    n_vocab = len(set(loaded_data))\n",
        "    print('n_vocab',n_vocab)\n",
        "    network_input, network_output = prepare_sequences(loaded_data, n_vocab)\n",
        "\n",
        "    model = build_lstm(network_input, n_vocab)\n",
        "    print(model.summary())\n",
        "    history = train(model, network_input, network_output)\n",
        "    model.save('/content/drive/My Drive/data/model.h5')\n",
        "    return history"
      ],
      "execution_count": null,
      "outputs": []
    },
    {
      "cell_type": "code",
      "metadata": {
        "colab": {
          "base_uri": "https://localhost:8080/"
        },
        "id": "IPsn67poNyVh",
        "outputId": "fd796629-5543-4509-8b54-d45d9ad3e745"
      },
      "source": [
        "import glob\n",
        "import pickle\n",
        "import numpy as np\n",
        "from music21 import converter, instrument, note, chord\n",
        "from keras.models import Sequential\n",
        "from keras.layers import Dense\n",
        "from keras.layers import Dropout\n",
        "from keras.layers import LSTM\n",
        "from keras.layers import Activation\n",
        "from keras.layers import BatchNormalization as BatchNorm\n",
        "from keras.utils import np_utils\n",
        "from keras.callbacks import ModelCheckpoint\n",
        "from google.colab import drive\n",
        "\n",
        "string_list = ['Bass','Drums','Sax','Piano'] #potencijalni kandidati (bass i piano imaju najvise info)\n",
        "drive.mount('/content/drive')\n",
        "with open('/content/drive/My Drive/data/Piano.pickle', 'rb') as handle:\n",
        "    loaded_data = pickle.load(handle)\n",
        "\n",
        "history = train_network()"
      ],
      "execution_count": null,
      "outputs": [
        {
          "output_type": "stream",
          "text": [
            "Drive already mounted at /content/drive; to attempt to forcibly remount, call drive.mount(\"/content/drive\", force_remount=True).\n",
            "n_vocab 674\n",
            "674\n",
            "Model: \"sequential\"\n",
            "_________________________________________________________________\n",
            "Layer (type)                 Output Shape              Param #   \n",
            "=================================================================\n",
            "lstm (LSTM)                  (None, 100, 128)          66560     \n",
            "_________________________________________________________________\n",
            "lstm_1 (LSTM)                (None, 100, 128)          131584    \n",
            "_________________________________________________________________\n",
            "lstm_2 (LSTM)                (None, 128)               131584    \n",
            "_________________________________________________________________\n",
            "dropout (Dropout)            (None, 128)               0         \n",
            "_________________________________________________________________\n",
            "dense (Dense)                (None, 64)                8256      \n",
            "_________________________________________________________________\n",
            "activation (Activation)      (None, 64)                0         \n",
            "_________________________________________________________________\n",
            "dropout_1 (Dropout)          (None, 64)                0         \n",
            "_________________________________________________________________\n",
            "dense_1 (Dense)              (None, 674)               43810     \n",
            "_________________________________________________________________\n",
            "activation_1 (Activation)    (None, 674)               0         \n",
            "=================================================================\n",
            "Total params: 381,794\n",
            "Trainable params: 381,794\n",
            "Non-trainable params: 0\n",
            "_________________________________________________________________\n",
            "None\n"
          ],
          "name": "stdout"
        }
      ]
    }
  ]
}